{
  "nbformat": 4,
  "nbformat_minor": 0,
  "metadata": {
    "colab": {
      "name": "GoogleColabParallel.ipynb",
      "provenance": [],
      "machine_shape": "hm",
      "authorship_tag": "ABX9TyNX0Z/42vrN9fIMdIUffQ0r",
      "include_colab_link": true
    },
    "kernelspec": {
      "name": "python3",
      "display_name": "Python 3"
    }
  },
  "cells": [
    {
      "cell_type": "markdown",
      "metadata": {
        "id": "view-in-github",
        "colab_type": "text"
      },
      "source": [
        "<a href=\"https://colab.research.google.com/github/johanjan/digimat/blob/master/GoogleColabParallel.ipynb\" target=\"_parent\"><img src=\"https://colab.research.google.com/assets/colab-badge.svg\" alt=\"Open In Colab\"/></a>"
      ]
    },
    {
      "cell_type": "code",
      "metadata": {
        "colab": {
          "base_uri": "https://localhost:8080/"
        },
        "id": "1E5DNc1jI4vP",
        "outputId": "e0b76edb-a9ed-4890-94cd-39f13e4189bf"
      },
      "source": [
        "%%writefile file.py\n",
        "\n",
        "print(\"hello\")\n",
        "\n",
        "from mpi4py import MPI\n",
        "import numpy\n",
        "\n",
        "comm = MPI.COMM_WORLD\n",
        "rank = comm.Get_rank()\n",
        "print(\"rank: \" + str(rank));\n"
      ],
      "execution_count": 22,
      "outputs": [
        {
          "output_type": "stream",
          "text": [
            "Overwriting file.py\n"
          ],
          "name": "stdout"
        }
      ]
    },
    {
      "cell_type": "code",
      "metadata": {
        "colab": {
          "base_uri": "https://localhost:8080/"
        },
        "id": "M3nYkkwfqtFT",
        "outputId": "3134c70c-06cc-4665-f5e2-dd11d6898843"
      },
      "source": [
        "!mpirun --allow-run-as-root -np 4 python file.py"
      ],
      "execution_count": 23,
      "outputs": [
        {
          "output_type": "stream",
          "text": [
            "hello\n",
            "hello\n",
            "hello\n",
            "hello\n",
            "rank: 0\n",
            "rank: 1\n",
            "rank: 3\n",
            "rank: 2\n"
          ],
          "name": "stdout"
        }
      ]
    }
  ]
}